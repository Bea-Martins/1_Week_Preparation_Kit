{
 "cells": [
  {
   "cell_type": "markdown",
   "metadata": {},
   "source": [
    "### Mock Test: Find the Median\n",
    ">*10min to solve the problem below*\n",
    "\n",
    "The median of a list of numbers is essentially its middle element after sorting. The same number of elements occur after it as before. Given a list of numbers with an odd number of elements, find the median?\n",
    "\n",
    "**Example** <br>\n",
    "*arr = [5, 3, 1, 2, 4]* <br>\n",
    "The sorted array *arr' = [5, 3, 1, 2, 4]*. The middle element and the median is *3*.\n",
    "\n",
    "**Function Description** <br>\n",
    "Complete the *findMedian* function in the editor below. <br>\n",
    "findMedian has the following parameter(s):\n",
    "- int arr[n]: an unsorted array of integers\n",
    "\n",
    "**Returns** <br>\n",
    "- int: the median of the array\n",
    "\n",
    "**Input Format** <br>\n",
    "The first line contains the integer *n*, the size of *arr*. <br>\n",
    "The second line contains *n* space-separated integers *arr[i]*.\n",
    "\n",
    "**Constraints** <br>\n",
    "*1 <= n <= 1000001* <br>\n",
    "***n** is odd*<br>\n",
    "*-10000 <= arr[i] <= 10000*"
   ]
  },
  {
   "cell_type": "code",
   "execution_count": 1,
   "metadata": {},
   "outputs": [],
   "source": [
    "def findMedian(arr):\n",
    "  n = len(arr)\n",
    "  sortedList = sorted(arr)\n",
    "  \n",
    "  if (n % 2) == 0:\n",
    "    right = n/2\n",
    "    left = right - 1\n",
    "    median = (sortedList[left] + sortedList[right]) / 2\n",
    "  else:\n",
    "    half = n//2\n",
    "    median = sortedList[half]\n",
    "  \n",
    "  return median"
   ]
  },
  {
   "cell_type": "code",
   "execution_count": 2,
   "metadata": {},
   "outputs": [
    {
     "data": {
      "text/plain": [
       "3"
      ]
     },
     "execution_count": 2,
     "metadata": {},
     "output_type": "execute_result"
    }
   ],
   "source": [
    "findMedian([0, 1, 2, 4, 5, 6, 3])"
   ]
  },
  {
   "cell_type": "code",
   "execution_count": null,
   "metadata": {},
   "outputs": [],
   "source": []
  }
 ],
 "metadata": {
  "kernelspec": {
   "display_name": "Python 3",
   "language": "python",
   "name": "python3"
  },
  "language_info": {
   "codemirror_mode": {
    "name": "ipython",
    "version": 3
   },
   "file_extension": ".py",
   "mimetype": "text/x-python",
   "name": "python",
   "nbconvert_exporter": "python",
   "pygments_lexer": "ipython3",
   "version": "3.10.11"
  },
  "orig_nbformat": 4
 },
 "nbformat": 4,
 "nbformat_minor": 2
}
