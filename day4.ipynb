{
 "cells": [
  {
   "cell_type": "markdown",
   "metadata": {},
   "source": [
    "## DAY 4"
   ]
  },
  {
   "cell_type": "markdown",
   "metadata": {},
   "source": [
    "### 1 Challenge: Grid\n",
    "\n",
    "Given a square grid of characters in the range ascii[a-z], rearrange elements of each row alphabetically, ascending. Determine if the columns are also in ascending alphabetical order, top to bottom. Return YES if they are or NO if they are not.\n",
    "\n",
    "**Example** <br>\n",
    "*grid = ['abc','ade','efg']*\n",
    "\n",
    "The grid is illustrated below.\n",
    "\n",
    "> a b c <br>\n",
    "> a d e <br>\n",
    "> e f g \n",
    "\n",
    "The rows are already in alphabetical order. The columns a a e, b d f and c e g are also in alphabetical order, so the answer would be YES. Only elements within the same row can be rearranged. They cannot be moved to a different row.\n",
    "\n",
    "**Function Description**\n",
    "Complete the gridChallenge function in the editor below.\n",
    "\n",
    "gridChallenge has the following parameter(s):\n",
    "\n",
    "- string grid[n]: an array of strings\n",
    "\n",
    "**Returns**\n",
    "- string: either YES or NO\n",
    "\n",
    "**Input Format**\n",
    "The first line contains , the number of testcases.\n",
    "\n",
    "Each of the next  sets of lines are described as follows:\n",
    "- The first line contains , the number of rows and columns in the grid.\n",
    "- The next  lines contains a string of length \n",
    "\n",
    "**Constraints**\n",
    "\n",
    "1 <= t <= 100 <br>\n",
    "1 <= n <= 100\n",
    "\n",
    "Each string consists of lowercase letters in the range ascii[a-z]\n",
    "\n",
    "**Output Format**\n",
    "For each test case, on a separate line print **YES** if it is possible to rearrange the grid alphabetically ascending in both its rows and columns, or **NO** otherwise."
   ]
  },
  {
   "cell_type": "code",
   "execution_count": 2,
   "metadata": {},
   "outputs": [],
   "source": [
    "def gridChallenge(grid):\n",
    "  new = []\n",
    "\n",
    "  for i in range(len(grid)):\n",
    "      new.append(sorted(grid[i]))\n",
    "\n",
    "  is_sorted = all(new[i][j] <= new[i+1][j] for i in range(len(new)-1) for j in range(len(new[i])))\n",
    "\n",
    "  if is_sorted:\n",
    "      print(\"YES\")\n",
    "  else:\n",
    "      print(\"NO\")"
   ]
  },
  {
   "cell_type": "code",
   "execution_count": 3,
   "metadata": {},
   "outputs": [
    {
     "name": "stdout",
     "output_type": "stream",
     "text": [
      "NO\n"
     ]
    }
   ],
   "source": [
    "grid = ['mpxz','abcd','wlmf']\n",
    "gridChallenge(grid)"
   ]
  },
  {
   "cell_type": "markdown",
   "metadata": {},
   "source": [
    "### 2 Challenge: Recursive Digit \n",
    "\n",
    "We define super digit of an integer *x* using the following rules: <br>\n",
    "Given an integer, we need to find the super digit of the integer.\n",
    "- If *x* has only *1* digit, then its super digit is *x*.\n",
    "- Otherwise, the super digit of *x* is equal to the super digit of the sum of the digits of *x*.\n",
    "\n",
    "For example, the super digit of *9875* will be calculated as:\n",
    "\n",
    ">super_digit(9875)      9+8+7+5 = 29 <br>\n",
    ">super_digit(29)        2 + 9 = 11 <br>\n",
    ">super_digit(11)        1 + 1 = 2 <br>\n",
    ">super_digit(2)         = 2  \n",
    "\n",
    "**Example**\n",
    "\n",
    "*n = `9875`* <br>\n",
    "*k = 4*\n",
    "\n",
    "The number *p* is created by concatenating the string *n k* times so the initial *p = 9875987598759875*.\n",
    "\n",
    ">superDigit(p) = superDigit(9875987598759875) <br>\n",
    ">                  9+8+7+5+9+8+7+5+9+8+7+5+9+8+7+5 = 116 <br>\n",
    ">superDigit(p) = superDigit(116) <br>\n",
    ">                  1+1+6 = 8 <br>\n",
    ">superDigit(p) = superDigit(8)\n",
    "\n",
    "All of the digits of *p* sum to *116*. The digits of *116* sum to *8*. *8* is only one digit, so it is the super digit.\n",
    "\n",
    "**Function Description** <br>\n",
    "Complete the function superDigit in the editor below. It must return the calculated super digit as an integer. <br>\n",
    "\n",
    "superDigit has the following parameter(s):\n",
    "- string n: a string representation of an integer\n",
    "- int k: the times to concatenate  to make \n",
    "\n",
    "**Returns** \n",
    "- int: the super digit of *n* repeated *k* times\n",
    "\n",
    "**Input Format** <br>\n",
    "The first line contains two space separated integers, *n* and *k*.\n",
    "\n",
    "**Constraints**\n",
    "\n",
    "*1 <= n <= 10^5 <br>\n",
    "*1 <= k <= 10^5"
   ]
  },
  {
   "cell_type": "code",
   "execution_count": 4,
   "metadata": {},
   "outputs": [
    {
     "data": {
      "text/plain": [
       "' def superDigit(n, k):\\n    number = [int(x) for x in str(n*k)]\\n    s_digit = sum(number)\\n\\n    while len(str(s_digit)) > 1:\\n        s_digit = sum(int(x) for x in str(s_digit))\\n\\n    return s_digit '"
      ]
     },
     "execution_count": 4,
     "metadata": {},
     "output_type": "execute_result"
    }
   ],
   "source": [
    "# It gives the correct output, but it takes a long time to process\n",
    "\n",
    "\"\"\" def superDigit(n, k):\n",
    "    number = [int(x) for x in str(n*k)]\n",
    "    s_digit = sum(number)\n",
    "\n",
    "    while len(str(s_digit)) > 1:\n",
    "        s_digit = sum(int(x) for x in str(s_digit))\n",
    "\n",
    "    return s_digit \"\"\""
   ]
  },
  {
   "cell_type": "code",
   "execution_count": 5,
   "metadata": {},
   "outputs": [],
   "source": [
    "# The correct and fast answer (But I didn't do it, I just copied it D:)\n",
    "\n",
    "def superDigit(n, k):\n",
    "    def string(n):\n",
    "        if len(n) == 1:\n",
    "            return int(n)\n",
    "        return string(str(sum([*map(int, n)])))\n",
    "    n = string(n)\n",
    "    return string(str(k*n))"
   ]
  },
  {
   "cell_type": "code",
   "execution_count": 6,
   "metadata": {},
   "outputs": [
    {
     "data": {
      "text/plain": [
       "3"
      ]
     },
     "execution_count": 6,
     "metadata": {},
     "output_type": "execute_result"
    }
   ],
   "source": [
    "superDigit('12345',5)"
   ]
  },
  {
   "cell_type": "markdown",
   "metadata": {},
   "source": [
    "### 3 Challenge: New Year Chaos\n",
    "\n",
    "It is New Year's Day and people are in line for the Wonderland rollercoaster ride. Each person wears a sticker indicating their initial position in the queue from  to . Any person can bribe the person directly in front of them to swap positions, but they still wear their original sticker. One person can bribe at most two others.\n",
    "\n",
    "Determine the minimum number of bribes that took place to get to a given queue order. Print the number of bribes, or, if anyone has bribed more than two people, print Too chaotic.\n",
    "\n",
    "Example\n",
    "\n",
    "\n",
    "If person  bribes person , the queue will look like this: . Only  bribe is required. Print 1.\n",
    "\n",
    "\n",
    "Person  had to bribe  people to get to the current position. Print Too chaotic.\n",
    "\n",
    "Function Description\n",
    "\n",
    "Complete the function minimumBribes in the editor below.\n",
    "\n",
    "minimumBribes has the following parameter(s):\n",
    "\n",
    "int q[n]: the positions of the people after all bribes\n",
    "Returns\n",
    "\n",
    "No value is returned. Print the minimum number of bribes necessary or Too chaotic if someone has bribed more than  people.\n",
    "Input Format\n",
    "\n",
    "The first line contains an integer , the number of test cases.\n",
    "\n",
    "Each of the next  pairs of lines are as follows:\n",
    "- The first line contains an integer , the number of people in the queue\n",
    "- The second line has  space-separated integers describing the final state of the queue.\n",
    "\n",
    "Constraints\n",
    "\n",
    "Subtasks\n",
    "\n",
    "For  score \n",
    "For  score "
   ]
  },
  {
   "cell_type": "code",
   "execution_count": 308,
   "metadata": {},
   "outputs": [],
   "source": [
    "def minimumBribes(arr):\n",
    "\n",
    "    diff = [arr[i] - 1 - i for i in range(len(arr))] # difference between current position and starting position\n",
    "    prevIs2 = 0   # tracks the number of consecutive times a person changed two positions\n",
    "    bribes = 0\n",
    "    \n",
    "    for v in diff:\n",
    "      if v > 2:\n",
    "        print(\"Too chaotic\")\n",
    "        return\n",
    "      elif v == 2:    #  If a person has moved two positions, prevIs2 is incremented and the value of v is added to bribes\n",
    "        prevIs2 += 1\n",
    "        bribes += v\n",
    "      else:                                # If a person has moved less than two positions \n",
    "        bribes += max(v + prevIs2, 0)      # bribes is incremented by the maximum of v + prevIs2 and 0. Tto ensure that bribes cannot be decreased \n",
    "        prevIs2 = 0                        # prevIs2 is reset to 0.\n",
    "        \n",
    "    return print(bribes)"
   ]
  },
  {
   "cell_type": "code",
   "execution_count": 309,
   "metadata": {},
   "outputs": [],
   "source": [
    "a = [1, 2, 5, 3, 7, 8, 6, 4]\n",
    "b = [5, 1, 2, 3, 7, 8, 6, 4]"
   ]
  },
  {
   "cell_type": "code",
   "execution_count": 310,
   "metadata": {},
   "outputs": [
    {
     "name": "stdout",
     "output_type": "stream",
     "text": [
      "7\n"
     ]
    }
   ],
   "source": [
    "minimumBribes(a)"
   ]
  }
 ],
 "metadata": {
  "kernelspec": {
   "display_name": "Python 3",
   "language": "python",
   "name": "python3"
  },
  "language_info": {
   "codemirror_mode": {
    "name": "ipython",
    "version": 3
   },
   "file_extension": ".py",
   "mimetype": "text/x-python",
   "name": "python",
   "nbconvert_exporter": "python",
   "pygments_lexer": "ipython3",
   "version": "3.10.11"
  },
  "orig_nbformat": 4
 },
 "nbformat": 4,
 "nbformat_minor": 2
}
