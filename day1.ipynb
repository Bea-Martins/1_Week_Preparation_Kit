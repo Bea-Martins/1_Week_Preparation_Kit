{
 "cells": [
  {
   "cell_type": "markdown",
   "metadata": {},
   "source": [
    "## DAY 1"
   ]
  },
  {
   "cell_type": "markdown",
   "metadata": {},
   "source": [
    "### 1 Challenge: Plus Minus\n",
    "\n",
    "Given an array of integers, calculate the ratios of its elements that are positive, negative, and zero. Print the decimal value of each fraction on a new line with *6* places after the decimal.\n",
    "\n",
    "**Note:** This challenge introduces precision problems. The test cases are scaled to six decimal places, though answers with absolute error of up to *10^-4* are acceptable.\n",
    "\n",
    "**Example** <br>\n",
    "*arr = [1,1,0, -1,-1]*\n",
    "There are *n=5* elements, two positive, two negative and one zero. Their ratios are *2/5 = 0.400000*, *2/5 = 0.400000* and *1/5 = 0.200000*. Results are printed as:\n",
    "\n",
    ">0.400000 <br>\n",
    ">0.400000 <br>\n",
    ">0.200000\n",
    "\n",
    "**Function Description** <br>\n",
    "Complete the plusMinus function in the editor below. <br>\n",
    "plusMinus has the following parameter(s):\n",
    "\n",
    "- int arr[n]: an array of integers\n",
    "\n",
    "**Print** <br>\n",
    "Print the ratios of positive, negative and zero values in the array. Each value should be printed on a separate line with *6* digits after the decimal. The function should not return a value.\n",
    "\n",
    "**Input Format** <br>\n",
    "The first line contains an integer, *n*, the size of the array.\n",
    "The second line contains *n* space-separated integers that describe *arr[n]*.\n",
    "\n",
    "**Constraints** <br>\n",
    "*0 < n <= 100* <br>\n",
    "*-100 <= arr[i] <= 100*\n",
    "\n",
    "**Output Format** <br>\n",
    "**Print** the following *3* lines, each to *6* decimals:\n",
    "\n",
    "1. proportion of positive values\n",
    "2. proportion of negative values\n",
    "3. proportion of zeros"
   ]
  },
  {
   "cell_type": "code",
   "execution_count": 2,
   "metadata": {},
   "outputs": [],
   "source": [
    "def plusMinus(arr):\n",
    "    positive = 0\n",
    "    negative = 0\n",
    "    zero = 0\n",
    "    \n",
    "    for value in arr:\n",
    "        if value == 0:\n",
    "            zero += 1\n",
    "        if value < 0:\n",
    "            negative += 1\n",
    "        if value > 0:\n",
    "            positive +=1\n",
    "            \n",
    "    print(\"{:.6f}\".format(positive/len(arr)))\n",
    "    print(\"{:.6f}\".format(negative/len(arr)))\n",
    "    print(\"{:.6f}\".format(zero/len(arr)))"
   ]
  },
  {
   "cell_type": "code",
   "execution_count": 3,
   "metadata": {},
   "outputs": [
    {
     "name": "stdout",
     "output_type": "stream",
     "text": [
      "0.500000\n",
      "0.333333\n",
      "0.166667\n"
     ]
    }
   ],
   "source": [
    "plusMinus([-4, 3, -9, 0, 4, 1])"
   ]
  },
  {
   "cell_type": "markdown",
   "metadata": {},
   "source": [
    "### 2 Challenge: Mini-Max Sum\n",
    "\n",
    "Given five positive integers, find the minimum and maximum values that can be calculated by summing exactly four of the five integers. Then print the respective minimum and maximum values as a single line of two space-separated long integers.\n",
    "\n",
    "**Example** <br>\n",
    "*arr = [1, 3, 5, 7, 9]* <br>\n",
    "The minimum sum is *1 + 3 + 5 + 7 = 16* and the maximum sum is *3 + 5 + 7 + 9*. The function prints\n",
    ">16 24\n",
    "\n",
    "**Function Description** <br>\n",
    "Complete the miniMaxSum function in the editor below.  <br>\n",
    "miniMaxSum has the following parameter(s):\n",
    "\n",
    "- arr: an array of *5* integers\n",
    "\n",
    "**Print** <br>\n",
    "Print two space-separated integers on one line: the minimum sum and the maximum sum of *4* of *5* elements.\n",
    "\n",
    "**Input Format** <br>\n",
    "A single line of five space-separated integers.\n",
    "\n",
    "**Constraints** <br>\n",
    "*1 <= arr[i] <= 10^9*\n",
    "\n",
    "**Output Format** <br>\n",
    "Print two space-separated long integers denoting the respective minimum and maximum values that can be calculated by summing exactly four of the five integers. (The output can be greater than a 32 bit integer.)"
   ]
  },
  {
   "cell_type": "code",
   "execution_count": 4,
   "metadata": {},
   "outputs": [],
   "source": [
    "def miniMaxSum(arr):\n",
    "    integer = 0\n",
    "    minimum = 0\n",
    "    maximum = 0\n",
    "    \n",
    "    arr.sort()\n",
    "    \n",
    "    for value in arr:\n",
    "        if integer != 4:\n",
    "            integer += 1\n",
    "            minimum = minimum + value\n",
    "        if integer > 1:\n",
    "            maximum = maximum + value\n",
    "    print(minimum, maximum)"
   ]
  },
  {
   "cell_type": "code",
   "execution_count": 5,
   "metadata": {},
   "outputs": [
    {
     "name": "stdout",
     "output_type": "stream",
     "text": [
      "10 14\n"
     ]
    }
   ],
   "source": [
    "miniMaxSum([1, 2, 3, 4, 5])"
   ]
  },
  {
   "cell_type": "markdown",
   "metadata": {},
   "source": [
    "### 3 Challenge: Time Conversion\n",
    "\n",
    "Given a time in *12*-hour AM/PM format, convert it to military (24-hour) time.\n",
    "\n",
    "Note: - 12:00:00AM on a 12-hour clock is 00:00:00 on a 24-hour clock.\n",
    "-12:00:00PM on a 12-hour clock is 12:00:00 on a 24-hour clock.\n",
    "\n",
    "**Example** <br>\n",
    "- *s = '12:01:00PM'*\n",
    "Return '12:01:00'.\n",
    "\n",
    "- *s = '12:01:00AM'*\n",
    "Return '00:01:00'.\n",
    "\n",
    "**Function Description** <br>\n",
    "Complete the timeConversion function in the editor below. It should return a new string representing the input time in 24 hour format. <br>\n",
    "timeConversion has the following parameter(s):\n",
    "- string s: a time in  hour format\n",
    "\n",
    "**Returns** <br>\n",
    "- string: the time in  hour format\n",
    "\n",
    "**Input Format** <br>\n",
    "A single string *s* that represents a time in *12*-hour clock format (i.e.: *hh:mm:ssAM* or *hh:mm:ssPM*).\n",
    "\n",
    "**Constraints** \n",
    "- All input times are valid"
   ]
  },
  {
   "cell_type": "code",
   "execution_count": 6,
   "metadata": {},
   "outputs": [],
   "source": [
    "def timeConversion(s):\n",
    "    \n",
    "    date = 0\n",
    "    \n",
    "    if s[-2:] == \"AM\" and s[:2] == \"12\":\n",
    "        return ('00' + s[2:-2])\n",
    "        \n",
    "    elif s[-2:] == \"AM\":\n",
    "        return (s[:-2])\n",
    "    \n",
    "    elif s[-2:] == \"PM\" and s[:2] == \"12\":\n",
    "        return (s[:-2])\n",
    "    \n",
    "    else:\n",
    "        date = int(s[:2]) + 12\n",
    "        return (str(date) + s[2:8])"
   ]
  },
  {
   "cell_type": "code",
   "execution_count": 7,
   "metadata": {},
   "outputs": [
    {
     "data": {
      "text/plain": [
       "'19:05:45'"
      ]
     },
     "execution_count": 7,
     "metadata": {},
     "output_type": "execute_result"
    }
   ],
   "source": [
    "timeConversion('07:05:45PM')"
   ]
  }
 ],
 "metadata": {
  "kernelspec": {
   "display_name": "Python 3",
   "language": "python",
   "name": "python3"
  },
  "language_info": {
   "codemirror_mode": {
    "name": "ipython",
    "version": 3
   },
   "file_extension": ".py",
   "mimetype": "text/x-python",
   "name": "python",
   "nbconvert_exporter": "python",
   "pygments_lexer": "ipython3",
   "version": "3.10.11"
  },
  "orig_nbformat": 4
 },
 "nbformat": 4,
 "nbformat_minor": 2
}
