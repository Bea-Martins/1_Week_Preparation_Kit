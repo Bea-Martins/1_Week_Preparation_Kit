{
 "cells": [
  {
   "cell_type": "markdown",
   "metadata": {},
   "source": [
    "## DAY 5"
   ]
  },
  {
   "cell_type": "markdown",
   "metadata": {},
   "source": [
    "### 1 Challenge: Merge two sorted linked lists\n",
    "\n",
    "Given pointers to the heads of two sorted linked lists, merge them into a single, sorted linked list. Either head pointer may be null meaning that the corresponding list is empty.\n",
    "\n",
    "**Example**<br>\n",
    "*head.A* refers to *1 → 3 → 7 → NULL*<br>\n",
    "*head.B* refers to *1 → 2 → NULL*<br>\n",
    "The new list is *1 → 1 → 2 → 3 → 7 → NULL*\n",
    "\n",
    "**Function Description**<br>\n",
    "Complete the mergeLists function in the editor below.<br>\n",
    "mergeLists has the following parameters:\n",
    "- SinglyLinkedListNode pointer headA: a reference to the head of a list\n",
    "- SinglyLinkedListNode pointer headB: a reference to the head of a list\n",
    "\n",
    "**Returns**\n",
    "- SinglyLinkedListNode pointer: a reference to the head of the merged list\n",
    "\n",
    "**Input Format**<br>\n",
    "The first line contains an integer *t*, the number of test cases.<br>\n",
    "The format for each test case is as follows:<br>\n",
    "The first line contains an integer *n*, the length of the first linked list.<br>\n",
    "The next *n* lines contain an integer each, the elements of the linked list.<br>\n",
    "The next line contains an integer *m*, the length of the second linked list.<br>\n",
    "The next *m* lines contain an integer each, the elements of the second linked list.\n",
    "\n",
    "**Constraints**\n",
    "- *1 ≤ t ≤ 10*\n",
    "- *1 ≤ n,m ≤ 1000*\n",
    "- *1 ≤ list[i] ≤ 1000, where list[i] is the ith element of the list.*"
   ]
  },
  {
   "cell_type": "code",
   "execution_count": 1,
   "metadata": {},
   "outputs": [],
   "source": [
    "import math\n",
    "import os\n",
    "import random\n",
    "import re\n",
    "import sys\n",
    "\n",
    "class SinglyLinkedListNode:\n",
    "    def __init__(self, node_data):\n",
    "        self.data = node_data\n",
    "        self.next = None\n",
    "\n",
    "class SinglyLinkedList:\n",
    "    def __init__(self):\n",
    "        self.head = None\n",
    "        self.tail = None\n",
    "\n",
    "    def insert_node(self, node_data):\n",
    "        node = SinglyLinkedListNode(node_data)\n",
    "\n",
    "        if not self.head:\n",
    "            self.head = node\n",
    "        else:\n",
    "            self.tail.next = node\n",
    "\n",
    "\n",
    "        self.tail = node\n",
    "\n",
    "def mergeLists(head1, head2):\n",
    "\n",
    "    sortedList = []\n",
    "    while(head1 is not None):\n",
    "        sortedList.append(head1.data)\n",
    "        head1 = head1.next\n",
    "    \n",
    "    while(head2 is not None):\n",
    "        sortedList.append(head2.data)\n",
    "        head2 = head2.next\n",
    "\n",
    "    sortedList.sort()\n",
    "\n",
    "    # Create a temporary node before the loop starts\n",
    "    temp = SinglyLinkedListNode(-1)\n",
    "    merge = temp\n",
    "\n",
    "    for x in range(len(sortedList)):\n",
    "        merge.next = SinglyLinkedListNode(sortedList[x])\n",
    "        merge = merge.next\n",
    "\n",
    "    # Skip the first node (which was initialized with -1)\n",
    "    merge = temp.next\n",
    "\n",
    "    while(merge is not None):\n",
    "        print(merge.data, end=\" \")\n",
    "        merge = merge.next\n",
    "\n",
    "    return"
   ]
  },
  {
   "cell_type": "code",
   "execution_count": 2,
   "metadata": {},
   "outputs": [],
   "source": [
    "llist1_count = int(input())\n",
    "\n",
    "llist1 = SinglyLinkedList()\n",
    "\n",
    "for _ in range(llist1_count):\n",
    "    llist1_item = int(input())\n",
    "    llist1.insert_node(llist1_item)\n",
    "                \n",
    "list2_count = int(input())\n",
    "llist2 = SinglyLinkedList()\n",
    "\n",
    "for _ in range(list2_count):\n",
    "    llist2_item = int(input())\n",
    "    llist2.insert_node(llist2_item)"
   ]
  },
  {
   "cell_type": "code",
   "execution_count": 3,
   "metadata": {},
   "outputs": [
    {
     "name": "stdout",
     "output_type": "stream",
     "text": [
      "1 2 2 3 4 4 5 9 "
     ]
    }
   ],
   "source": [
    "llist3 = mergeLists(llist1.head, llist2.head)"
   ]
  },
  {
   "cell_type": "markdown",
   "metadata": {},
   "source": [
    "### 2 Challenge: Queue using Two Stacks\n",
    "\n",
    "A queue is an abstract data type that maintains the order in which elements were added to it, allowing the oldest elements to be removed from the front and new elements to be added to the rear. This is called a First-In-First-Out (FIFO) data structure because the first element added to the queue (i.e., the one that has been waiting the longest) is always the first one to be removed.<br>\n",
    "A basic queue has the following operations:\n",
    "- Enqueue: add a new element to the end of the queue.\n",
    "- Dequeue: remove the element from the front of the queue and return it.<br>\n",
    "In this challenge, you must first implement a queue using two stacks. Then process *q* queries, where each query is one of the following *3* types:\n",
    "\n",
    "1. 1 x: Enqueue element *x* into the end of the queue.\n",
    "2. 2: Dequeue the element at the front of the queue.\n",
    "3. 3: Print the element at the front of the queue.\n",
    "\n",
    "**Input Format**<br>\n",
    "The first line contains a single integer, *q*, denoting the number of queries.<br>\n",
    "Each line *i* of the *q* subsequent lines contains a single query in the form described in the problem statement above. All three queries start with an integer denoting the query *type*, but only query *1* is followed by an additional space-separated value, *x*, denoting the value to be enqueued.\n",
    "\n",
    "**Constraints**<br>\n",
    "- *1 ≤ q ≤ 10⁵*\n",
    "- *1 ≤ type ≤ 3*\n",
    "- *1 ≤ |x| ≤ 10⁹*\n",
    "- It is guaranteed that a valid answer always exists for each query of type *3*.\n",
    "\n",
    "**Output Format** <br>\n",
    "For each query of type *3*, print the value of the element at the front of the queue on a new line."
   ]
  },
  {
   "cell_type": "code",
   "execution_count": 28,
   "metadata": {},
   "outputs": [
    {
     "name": "stdout",
     "output_type": "stream",
     "text": [
      "42\n"
     ]
    }
   ],
   "source": [
    "q = int(input())\n",
    "queue = []\n",
    "\n",
    "for i in range(q):\n",
    "  type = input()\n",
    "\n",
    "  if type == '2':\n",
    "    if queue:  # Check if the queue is not empty\n",
    "      queue.pop(0)\n",
    "  elif type == '3':\n",
    "    if queue:  # Check if the queue is not empty\n",
    "      print(queue[0])\n",
    "  else:\n",
    "    type = type.split(' ')\n",
    "    queue.append(type[-1])"
   ]
  }
 ],
 "metadata": {
  "kernelspec": {
   "display_name": "Python 3",
   "language": "python",
   "name": "python3"
  },
  "language_info": {
   "codemirror_mode": {
    "name": "ipython",
    "version": 3
   },
   "file_extension": ".py",
   "mimetype": "text/x-python",
   "name": "python",
   "nbconvert_exporter": "python",
   "pygments_lexer": "ipython3",
   "version": "3.10.11"
  },
  "orig_nbformat": 4
 },
 "nbformat": 4,
 "nbformat_minor": 2
}
