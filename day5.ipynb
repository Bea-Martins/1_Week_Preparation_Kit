{
 "cells": [
  {
   "cell_type": "markdown",
   "metadata": {},
   "source": [
    "## DAY 5"
   ]
  },
  {
   "cell_type": "markdown",
   "metadata": {},
   "source": [
    "### 1 Challenge: Merge two sorted linked lists\n",
    "\n",
    "Given pointers to the heads of two sorted linked lists, merge them into a single, sorted linked list. Either head pointer may be null meaning that the corresponding list is empty.\n",
    "\n",
    "**Example**<br>\n",
    "*head.A* refers to *1 → 3 → 7 → NULL*<br>\n",
    "*head.B* refers to *1 → 2 → NULL*<br>\n",
    "The new list is *1 → 1 → 2 → 3 → 7 → NULL*\n",
    "\n",
    "**Function Description**<br>\n",
    "Complete the mergeLists function in the editor below.<br>\n",
    "mergeLists has the following parameters:\n",
    "- SinglyLinkedListNode pointer headA: a reference to the head of a list\n",
    "- SinglyLinkedListNode pointer headB: a reference to the head of a list\n",
    "\n",
    "**Returns**\n",
    "- SinglyLinkedListNode pointer: a reference to the head of the merged list\n",
    "\n",
    "**Input Format**<br>\n",
    "The first line contains an integer *t*, the number of test cases.<br>\n",
    "The format for each test case is as follows:<br>\n",
    "The first line contains an integer *n*, the length of the first linked list.<br>\n",
    "The next *n* lines contain an integer each, the elements of the linked list.<br>\n",
    "The next line contains an integer *m*, the length of the second linked list.<br>\n",
    "The next *m* lines contain an integer each, the elements of the second linked list.\n",
    "\n",
    "**Constraints**\n",
    "- *1 ≤ t ≤ 10*\n",
    "- *1 ≤ n,m ≤ 1000*\n",
    "- *1 ≤ list[i] ≤ 1000, where list[i] is the ith element of the list.*"
   ]
  },
  {
   "cell_type": "code",
   "execution_count": 1,
   "metadata": {},
   "outputs": [],
   "source": [
    "import math\n",
    "import os\n",
    "import random\n",
    "import re\n",
    "import sys\n",
    "\n",
    "class SinglyLinkedListNode:\n",
    "    def __init__(self, node_data):\n",
    "        self.data = node_data\n",
    "        self.next = None\n",
    "\n",
    "class SinglyLinkedList:\n",
    "    def __init__(self):\n",
    "        self.head = None\n",
    "        self.tail = None\n",
    "\n",
    "    def insert_node(self, node_data):\n",
    "        node = SinglyLinkedListNode(node_data)\n",
    "\n",
    "        if not self.head:\n",
    "            self.head = node\n",
    "        else:\n",
    "            self.tail.next = node\n",
    "\n",
    "\n",
    "        self.tail = node\n",
    "\n",
    "def mergeLists(head1, head2):\n",
    "\n",
    "    sortedList = []\n",
    "    while(head1 is not None):\n",
    "        sortedList.append(head1.data)\n",
    "        head1 = head1.next\n",
    "    \n",
    "    while(head2 is not None):\n",
    "        sortedList.append(head2.data)\n",
    "        head2 = head2.next\n",
    "\n",
    "    sortedList.sort()\n",
    "\n",
    "    # Create a temporary node before the loop starts\n",
    "    temp = SinglyLinkedListNode(-1)\n",
    "    merge = temp\n",
    "\n",
    "    for x in range(len(sortedList)):\n",
    "        merge.next = SinglyLinkedListNode(sortedList[x])\n",
    "        merge = merge.next\n",
    "\n",
    "    # Skip the first node (which was initialized with -1)\n",
    "    merge = temp.next\n",
    "\n",
    "    while(merge is not None):\n",
    "        print(merge.data, end=\" \")\n",
    "        merge = merge.next\n",
    "\n",
    "    return"
   ]
  },
  {
   "cell_type": "code",
   "execution_count": 2,
   "metadata": {},
   "outputs": [],
   "source": [
    "llist1_count = int(input())\n",
    "\n",
    "llist1 = SinglyLinkedList()\n",
    "\n",
    "for _ in range(llist1_count):\n",
    "    llist1_item = int(input())\n",
    "    llist1.insert_node(llist1_item)\n",
    "                \n",
    "list2_count = int(input())\n",
    "llist2 = SinglyLinkedList()\n",
    "\n",
    "for _ in range(list2_count):\n",
    "    llist2_item = int(input())\n",
    "    llist2.insert_node(llist2_item)"
   ]
  },
  {
   "cell_type": "code",
   "execution_count": 3,
   "metadata": {},
   "outputs": [
    {
     "name": "stdout",
     "output_type": "stream",
     "text": [
      "1 2 2 3 4 4 5 9 "
     ]
    }
   ],
   "source": [
    "llist3 = mergeLists(llist1.head, llist2.head)"
   ]
  },
  {
   "cell_type": "code",
   "execution_count": null,
   "metadata": {},
   "outputs": [],
   "source": []
  }
 ],
 "metadata": {
  "kernelspec": {
   "display_name": "Python 3",
   "language": "python",
   "name": "python3"
  },
  "language_info": {
   "codemirror_mode": {
    "name": "ipython",
    "version": 3
   },
   "file_extension": ".py",
   "mimetype": "text/x-python",
   "name": "python",
   "nbconvert_exporter": "python",
   "pygments_lexer": "ipython3",
   "version": "3.10.11"
  },
  "orig_nbformat": 4
 },
 "nbformat": 4,
 "nbformat_minor": 2
}
